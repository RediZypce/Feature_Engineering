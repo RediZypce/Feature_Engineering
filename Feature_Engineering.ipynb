{
 "cells": [
  {
   "cell_type": "markdown",
   "id": "e6b6d5d2",
   "metadata": {},
   "source": [
    "# FEATURE ENGINEERING"
   ]
  },
  {
   "cell_type": "markdown",
   "id": "4c6eb9b7",
   "metadata": {},
   "source": [
    "Feature engineering is the process of selecting, transforming, extracting, combining, and manipulating raw data to generate the desired variables for analysis or predictive modeling . It is a crucial step in developing a machine learning model. Feature engineering can be done using domain knowledge of the data to create features that make machine learning algorithms work. If feature engineering is done correctly, it increases the predictive power of machine learning algorithms by creating features from raw data that help facilitate the machine learning process."
   ]
  },
  {
   "cell_type": "markdown",
   "id": "cfe7e781",
   "metadata": {},
   "source": [
    "###  Numerical Transformation Introduction"
   ]
  },
  {
   "cell_type": "markdown",
   "id": "47c6b8f9",
   "metadata": {},
   "source": [
    "We’ll focus on the following numerical transformations:\n",
    "\n",
    "* Centering\n",
    "* Standard Scaler\n",
    "* Min and Max Scaler\n",
    "* Binning\n",
    "* Log transformations"
   ]
  },
  {
   "cell_type": "markdown",
   "id": "b11ca3dc",
   "metadata": {},
   "source": [
    "### Centering Your Data"
   ]
  },
  {
   "cell_type": "markdown",
   "id": "c35473e7",
   "metadata": {},
   "source": [
    "Centering data is a data preprocessing technique used to shift the values of a numerical variable so that they are centered around a common reference point, typically the mean (average) of the variable. This process involves subtracting the mean of the variable from each data point. Centering data is also known as mean-centering or zero-centering."
   ]
  },
  {
   "cell_type": "code",
   "execution_count": 17,
   "id": "9fe5f484",
   "metadata": {},
   "outputs": [
    {
     "name": "stdout",
     "output_type": "stream",
     "text": [
      "Index(['spent', 'nearest_starbucks', 'age', 'rate_quality', 'rate_price',\n",
      "       'rate_promo', 'ambiance', 'wifi', 'service', 'meetings_hangout'],\n",
      "      dtype='object')\n"
     ]
    }
   ],
   "source": [
    "import pandas as pd \n",
    "import numpy as np\n",
    "import matplotlib.pyplot as plt \n",
    "\n",
    "coffee = pd.read_csv(\"starbucks_customers.csv\")\n",
    "\n",
    "print(coffee.columns)"
   ]
  },
  {
   "cell_type": "code",
   "execution_count": 18,
   "id": "300fb090",
   "metadata": {},
   "outputs": [
    {
     "name": "stdout",
     "output_type": "stream",
     "text": [
      "<class 'pandas.core.frame.DataFrame'>\n",
      "RangeIndex: 122 entries, 0 to 121\n",
      "Data columns (total 10 columns):\n",
      " #   Column             Non-Null Count  Dtype\n",
      "---  ------             --------------  -----\n",
      " 0   spent              122 non-null    int64\n",
      " 1   nearest_starbucks  122 non-null    int64\n",
      " 2   age                122 non-null    int64\n",
      " 3   rate_quality       122 non-null    int64\n",
      " 4   rate_price         122 non-null    int64\n",
      " 5   rate_promo         122 non-null    int64\n",
      " 6   ambiance           122 non-null    int64\n",
      " 7   wifi               122 non-null    int64\n",
      " 8   service            122 non-null    int64\n",
      " 9   meetings_hangout   122 non-null    int64\n",
      "dtypes: int64(10)\n",
      "memory usage: 9.7 KB\n",
      "None\n"
     ]
    }
   ],
   "source": [
    "print(coffee.info())"
   ]
  },
  {
   "cell_type": "code",
   "execution_count": 19,
   "id": "e4e87288",
   "metadata": {},
   "outputs": [],
   "source": [
    "## create ages variable\n",
    "ages = coffee['age']"
   ]
  },
  {
   "cell_type": "code",
   "execution_count": 20,
   "id": "481507ef",
   "metadata": {},
   "outputs": [
    {
     "name": "stdout",
     "output_type": "stream",
     "text": [
      "13\n"
     ]
    }
   ],
   "source": [
    "## get min and print\n",
    "min_age = np.min(ages)\n",
    "print(min_age)"
   ]
  },
  {
   "cell_type": "code",
   "execution_count": 21,
   "id": "54e3445b",
   "metadata": {},
   "outputs": [
    {
     "name": "stdout",
     "output_type": "stream",
     "text": [
      "70\n"
     ]
    }
   ],
   "source": [
    "## get max and print\n",
    "max_age = np.max(ages)\n",
    "print(max_age)"
   ]
  },
  {
   "cell_type": "code",
   "execution_count": 22,
   "id": "452ee951",
   "metadata": {},
   "outputs": [
    {
     "name": "stdout",
     "output_type": "stream",
     "text": [
      "57\n"
     ]
    }
   ],
   "source": [
    "## print the range\n",
    "print(max_age - min_age)"
   ]
  },
  {
   "cell_type": "code",
   "execution_count": 29,
   "id": "6ee47d07",
   "metadata": {},
   "outputs": [
    {
     "name": "stdout",
     "output_type": "stream",
     "text": [
      "27.33606557377049\n"
     ]
    }
   ],
   "source": [
    "## find the mean\n",
    "mean_age = np.mean(ages)\n",
    "print(mean_age)"
   ]
  },
  {
   "cell_type": "code",
   "execution_count": 32,
   "id": "86a884ce",
   "metadata": {},
   "outputs": [
    {
     "name": "stdout",
     "output_type": "stream",
     "text": [
      "0      24.66\n",
      "1       7.66\n",
      "2       1.66\n",
      "3       0.66\n",
      "4       0.66\n",
      "       ...  \n",
      "117    -5.34\n",
      "118    -5.34\n",
      "119    -7.34\n",
      "120    -7.34\n",
      "121   -13.34\n",
      "Name: age, Length: 122, dtype: float64\n"
     ]
    }
   ],
   "source": [
    "## center ages\n",
    "centered_ages = round((ages - mean_age),2)\n",
    "print(centered_ages)"
   ]
  },
  {
   "cell_type": "code",
   "execution_count": 33,
   "id": "0ae8f550",
   "metadata": {},
   "outputs": [
    {
     "data": {
      "image/png": "[encoded data removed]",
      "text/plain": [
       "<Figure size 640x480 with 1 Axes>"
      ]
     },
     "metadata": {},
     "output_type": "display_data"
    }
   ],
   "source": [
    "## graph it\n",
    "plt.hist(centered_ages)\n",
    "plt.show();"
   ]
  },
  {
   "cell_type": "markdown",
   "id": "fcbc8bb9",
   "metadata": {},
   "source": [
    "### Standardizing our Data\n",
    "Standardization (also known as Z-Score normalization) is when we center our data, then divide it by the standard deviation. Once we do that, our entire data set will have a mean of zero and a standard deviation of one. This allows all of our features to be on the same scale."
   ]
  },
  {
   "cell_type": "code",
   "execution_count": 35,
   "id": "d0b3a341",
   "metadata": {},
   "outputs": [],
   "source": [
    "# set up your variables\n",
    "coffee = pd.read_csv('starbucks_customers.csv')\n",
    "ages = coffee['age']\n",
    "mean_age = np.mean(ages)\n",
    "std_dev_age = np.std(ages)"
   ]
  },
  {
   "cell_type": "code",
   "execution_count": 36,
   "id": "75ce0b49",
   "metadata": {},
   "outputs": [],
   "source": [
    "## standardize ages\n",
    "ages_standardized = (ages-mean_age)/std_dev_age"
   ]
  },
  {
   "cell_type": "code",
   "execution_count": 47,
   "id": "052d3a87",
   "metadata": {},
   "outputs": [
    {
     "name": "stdout",
     "output_type": "stream",
     "text": [
      "Mean: 0.00\n",
      "Standard Deviation: 1.00\n"
     ]
    }
   ],
   "source": [
    "## print the results \n",
    "mean = np.mean(ages_standardized)\n",
    "std_dev = np.std(ages_standardized)\n",
    "\n",
    "# Print the mean and standard deviation rounded to two decimal places\n",
    "print(f\"Mean: {mean:.2f}\")\n",
    "print(f\"Standard Deviation: {std_dev:.2f}\")"
   ]
  },
  {
   "cell_type": "code",
   "execution_count": 50,
   "id": "fedd1b33",
   "metadata": {},
   "outputs": [
    {
     "name": "stdout",
     "output_type": "stream",
     "text": [
      "Ages_standardized: 0    2.615912\n",
      "1    0.812854\n",
      "2    0.176481\n",
      "3    0.070418\n",
      "4    0.070418\n",
      "5    0.070418\n",
      "6   -0.035644\n",
      "7   -0.141706\n",
      "8   -0.141706\n",
      "9   -0.141706\n",
      "Name: age, dtype: float64\n"
     ]
    }
   ],
   "source": [
    "# Print ages_standardized\n",
    "\n",
    "print(f\"Ages_standardized: {ages_standardized.head(10)}\")"
   ]
  },
  {
   "cell_type": "markdown",
   "id": "b9918742",
   "metadata": {},
   "source": [
    "### Standardizing Data with Sklearn"
   ]
  },
  {
   "cell_type": "code",
   "execution_count": 54,
   "id": "376d8bb5",
   "metadata": {},
   "outputs": [],
   "source": [
    "from sklearn.preprocessing import StandardScaler "
   ]
  },
  {
   "cell_type": "code",
   "execution_count": 55,
   "id": "523428ae",
   "metadata": {},
   "outputs": [],
   "source": [
    "ages = coffee['age']"
   ]
  },
  {
   "cell_type": "code",
   "execution_count": 58,
   "id": "01413258",
   "metadata": {},
   "outputs": [],
   "source": [
    "scaler = StandardScaler()\n",
    "ages_reshaped = np.array(ages).reshape(-1,1)\n",
    "ages_scaled = scaler.fit_transform(ages_reshaped)"
   ]
  },
  {
   "cell_type": "code",
   "execution_count": 59,
   "id": "351a2fa4",
   "metadata": {},
   "outputs": [
    {
     "name": "stdout",
     "output_type": "stream",
     "text": [
      "Mean: 0.00\n",
      "Standard Deviation: 1.00\n"
     ]
    }
   ],
   "source": [
    "## print the results \n",
    "mean = np.mean(ages_scaled)\n",
    "std_dev = np.std(ages_scaled)\n",
    "\n",
    "# Print the mean and standard deviation rounded to two decimal places\n",
    "print(f\"Mean: {mean:.2f}\")\n",
    "print(f\"Standard Deviation: {std_dev:.2f}\")"
   ]
  },
  {
   "cell_type": "markdown",
   "id": "ee8f7af4",
   "metadata": {},
   "source": [
    "### Min-Max Normalization"
   ]
  },
  {
   "cell_type": "markdown",
   "id": "1046544e",
   "metadata": {},
   "source": [
    "MinMax normalization, also known as feature scaling, is a data preprocessing technique used in statistics and machine learning to rescale numerical variables within a specific range, typically between 0 and 1. It involves transforming each data point by subtracting the minimum value of the variable and then dividing it by the range (the difference between the maximum and minimum values). This process ensures that all the values in the dataset fall within the specified range, making it easier to compare and analyze the variables, while also preventing certain variables from dominating others in algorithms that rely on distance or magnitude. MinMax normalization is particularly useful in machine learning when working with models that are sensitive to the scale of input features, such as neural networks and support vector machines."
   ]
  },
  {
   "cell_type": "code",
   "execution_count": 60,
   "id": "6b462db7",
   "metadata": {},
   "outputs": [],
   "source": [
    "## get spent feature\n",
    "spent = coffee[\"spent\"]"
   ]
  },
  {
   "cell_type": "code",
   "execution_count": 61,
   "id": "de95b3bc",
   "metadata": {},
   "outputs": [],
   "source": [
    "#find the max spent\n",
    "max_spent = np.max(spent)"
   ]
  },
  {
   "cell_type": "code",
   "execution_count": 62,
   "id": "3f36b088",
   "metadata": {},
   "outputs": [],
   "source": [
    "#find the min spent\n",
    "min_spent = np.min(spent)"
   ]
  },
  {
   "cell_type": "code",
   "execution_count": 63,
   "id": "5d0d52ec",
   "metadata": {},
   "outputs": [],
   "source": [
    "#find the difference\n",
    "spent_range = max_spent - min_spent"
   ]
  },
  {
   "cell_type": "code",
   "execution_count": 64,
   "id": "b714842c",
   "metadata": {},
   "outputs": [],
   "source": [
    "#normalize your spent feature\n",
    "spent_normalized = (spent-min_spent)/spent_range"
   ]
  },
  {
   "cell_type": "code",
   "execution_count": 66,
   "id": "6324632f",
   "metadata": {},
   "outputs": [
    {
     "name": "stdout",
     "output_type": "stream",
     "text": [
      "0    0.464286\n",
      "1    0.892857\n",
      "2    0.357143\n",
      "3    0.250000\n",
      "4    0.357143\n",
      "Name: spent, dtype: float64\n"
     ]
    }
   ],
   "source": [
    "#print your results\n",
    "print(spent_normalized.head())"
   ]
  },
  {
   "cell_type": "markdown",
   "id": "1e55afad",
   "metadata": {},
   "source": [
    "### Min-Max Normalization with Sklearn"
   ]
  },
  {
   "cell_type": "code",
   "execution_count": 68,
   "id": "78e3bfae",
   "metadata": {},
   "outputs": [],
   "source": [
    "from sklearn.preprocessing import MinMaxScaler"
   ]
  },
  {
   "cell_type": "code",
   "execution_count": 69,
   "id": "68b55516",
   "metadata": {},
   "outputs": [],
   "source": [
    "spent = coffee['spent']"
   ]
  },
  {
   "cell_type": "code",
   "execution_count": 70,
   "id": "52c71b7e",
   "metadata": {},
   "outputs": [
    {
     "name": "stdout",
     "output_type": "stream",
     "text": [
      "0.0\n",
      "1.0\n"
     ]
    }
   ],
   "source": [
    "## write your code below\n",
    "spent_reshaped = np.array(spent).reshape(-1,1)\n",
    "\n",
    "mmscaler = MinMaxScaler()\n",
    "\n",
    "reshaped_scaled = mmscaler.fit_transform(spent_reshaped)\n",
    "print(np.min(reshaped_scaled))\n",
    "print(np.max(reshaped_scaled))"
   ]
  },
  {
   "cell_type": "markdown",
   "id": "bb7713f2",
   "metadata": {},
   "source": [
    "### Binning Data"
   ]
  },
  {
   "cell_type": "markdown",
   "id": "80460b5d",
   "metadata": {},
   "source": [
    "Data binning, also known as data bucketing or data discretization, is a data pre-processing technique used to reduce the effects of minor observation errors . The original data values are divided into small intervals known as bins, and then they are replaced by a general value calculated for that bin . Binning is a generalization of rounding and is related to quantization ."
   ]
  },
  {
   "cell_type": "code",
   "execution_count": 71,
   "id": "60144d18",
   "metadata": {},
   "outputs": [],
   "source": [
    "ages = coffee['age']"
   ]
  },
  {
   "cell_type": "code",
   "execution_count": 72,
   "id": "fbde73b9",
   "metadata": {},
   "outputs": [
    {
     "name": "stdout",
     "output_type": "stream",
     "text": [
      "13\n",
      "70\n"
     ]
    }
   ],
   "source": [
    "print(np.min(ages))\n",
    "print(np.max(ages))"
   ]
  },
  {
   "cell_type": "code",
   "execution_count": 75,
   "id": "c18b2513",
   "metadata": {},
   "outputs": [],
   "source": [
    "age_bins = [12, 20, 30, 40, 71]"
   ]
  },
  {
   "cell_type": "code",
   "execution_count": 76,
   "id": "11556fe0",
   "metadata": {},
   "outputs": [],
   "source": [
    "coffee['binned_ages'] = pd.cut(coffee['age'], age_bins, right = False)"
   ]
  },
  {
   "cell_type": "code",
   "execution_count": 79,
   "id": "3db3ebe2",
   "metadata": {},
   "outputs": [
    {
     "name": "stdout",
     "output_type": "stream",
     "text": [
      "0    [40, 71)\n",
      "1    [30, 40)\n",
      "2    [20, 30)\n",
      "3    [20, 30)\n",
      "4    [20, 30)\n",
      "5    [20, 30)\n",
      "6    [20, 30)\n",
      "7    [20, 30)\n",
      "8    [20, 30)\n",
      "9    [20, 30)\n",
      "Name: binned_ages, dtype: category\n",
      "Categories (4, interval[int64, left]): [[12, 20) < [20, 30) < [30, 40) < [40, 71)]\n"
     ]
    }
   ],
   "source": [
    "print(coffee['binned_ages'].head(10))"
   ]
  },
  {
   "cell_type": "code",
   "execution_count": 80,
   "id": "df2e0235",
   "metadata": {
    "scrolled": true
   },
   "outputs": [
    {
     "data": {
      "image/png": "[encoded data removed]",
      "text/plain": [
       "<Figure size 640x480 with 1 Axes>"
      ]
     },
     "metadata": {},
     "output_type": "display_data"
    }
   ],
   "source": [
    "coffee['binned_ages'].value_counts().plot(kind='bar')\n",
    "plt.show()"
   ]
  },
  {
   "cell_type": "markdown",
   "id": "88f52d20",
   "metadata": {},
   "source": [
    "### Natural Log Transformation"
   ]
  },
  {
   "cell_type": "markdown",
   "id": "b012f594",
   "metadata": {},
   "source": [
    "Logarithms are an essential tool in statistical analysis and machine learning preparation. This transformation works well for right-skewed data and data with large outliers. After we log transform our data, one large benefit is that it will allow the data to be closer to a “normal” distribution. It also changes the scale so our data points will drastically reduce the range of their values."
   ]
  },
  {
   "cell_type": "markdown",
   "id": "4fcac8ab",
   "metadata": {},
   "source": [
    "Using a log transformation in a machine learning model will require some extra interpretation. For example, if you were to log transform your data in a linear regression model, our independent variable has a multiplication relationship with our dependent variable instead of the usual additive relationship we would have if our data was not log-transformed.\n",
    "\n",
    "Keep in mind, just because your data is skewed does not mean that a log transformation is the best answer. You would not want to log transform your feature if:\n",
    "\n",
    "* You have values less than 0. The natural logarithm (which is what we’ve been talking about) of a negative number is undefined.\n",
    "\n",
    "* You have left-skewed data. That data may call for a square or cube transformation.\n",
    "\n",
    "* You have non-parametric data"
   ]
  },
  {
   "cell_type": "markdown",
   "id": "37726e07",
   "metadata": {},
   "source": [
    "The natural logarithm log is the inverse of the exponential function, so that log(exp(x)) = x. The natural logarithm is logarithm in base e "
   ]
  },
  {
   "cell_type": "code",
   "execution_count": 189,
   "id": "c85c0687",
   "metadata": {},
   "outputs": [
    {
     "data": {
      "image/png": "[encoded data removed]",
      "text/plain": [
       "<Figure size 640x480 with 1 Axes>"
      ]
     },
     "metadata": {},
     "output_type": "display_data"
    },
    {
     "data": {
      "image/png": "[encoded data removed]",
      "text/plain": [
       "<Figure size 640x480 with 1 Axes>"
      ]
     },
     "metadata": {},
     "output_type": "display_data"
    }
   ],
   "source": [
    "cars = pd.read_csv(\"cars.csv\")\n",
    "\n",
    "## set you price variable\n",
    "prices = cars['sellingprice']\n",
    "\n",
    "## plot a histogram of prices\n",
    "plt.hist(prices, bins = 100)\n",
    "plt.show()\n",
    "\n",
    "## log transform prices\n",
    "log_prices = np.log(prices)\n",
    "\n",
    "## plot a histogram of log_prices\n",
    "plt.hist(log_prices, bins = 100)\n",
    "plt.show()"
   ]
  },
  {
   "cell_type": "markdown",
   "id": "1834eb0a",
   "metadata": {},
   "source": [
    "# Encoding Categorical Variables"
   ]
  },
  {
   "cell_type": "code",
   "execution_count": 190,
   "id": "667fa9fe",
   "metadata": {},
   "outputs": [
    {
     "data": {
      "text/html": [
       "<div>\n",
       "<style scoped>\n",
       "    .dataframe tbody tr th:only-of-type {\n",
       "        vertical-align: middle;\n",
       "    }\n",
       "\n",
       "    .dataframe tbody tr th {\n",
       "        vertical-align: top;\n",
       "    }\n",
       "\n",
       "    .dataframe thead th {\n",
       "        text-align: right;\n",
       "    }\n",
       "</style>\n",
       "<table border=\"1\" class=\"dataframe\">\n",
       "  <thead>\n",
       "    <tr style=\"text-align: right;\">\n",
       "      <th></th>\n",
       "      <th>year</th>\n",
       "      <th>make</th>\n",
       "      <th>model</th>\n",
       "      <th>trim</th>\n",
       "      <th>body</th>\n",
       "      <th>transmission</th>\n",
       "      <th>vin</th>\n",
       "      <th>state</th>\n",
       "      <th>condition</th>\n",
       "      <th>odometer</th>\n",
       "      <th>color</th>\n",
       "      <th>interior</th>\n",
       "      <th>seller</th>\n",
       "      <th>mmr</th>\n",
       "      <th>sellingprice</th>\n",
       "      <th>saledate</th>\n",
       "    </tr>\n",
       "  </thead>\n",
       "  <tbody>\n",
       "    <tr>\n",
       "      <th>0</th>\n",
       "      <td>2006</td>\n",
       "      <td>Chrysler</td>\n",
       "      <td>300</td>\n",
       "      <td>Base</td>\n",
       "      <td>Sedan</td>\n",
       "      <td>automatic</td>\n",
       "      <td>2c3ka43r76h366165</td>\n",
       "      <td>il</td>\n",
       "      <td>1.9</td>\n",
       "      <td>119618.0</td>\n",
       "      <td>blue</td>\n",
       "      <td>gray</td>\n",
       "      <td>go financial</td>\n",
       "      <td>4775</td>\n",
       "      <td>2500</td>\n",
       "      <td>Thu May 28 2015 03:00:00 GMT-0700 (PDT)</td>\n",
       "    </tr>\n",
       "    <tr>\n",
       "      <th>1</th>\n",
       "      <td>2014</td>\n",
       "      <td>Volkswagen</td>\n",
       "      <td>Jetta</td>\n",
       "      <td>S</td>\n",
       "      <td>Sedan</td>\n",
       "      <td>manual</td>\n",
       "      <td>3vw1k7aj9em275429</td>\n",
       "      <td>ca</td>\n",
       "      <td>4.9</td>\n",
       "      <td>7740.0</td>\n",
       "      <td>—</td>\n",
       "      <td>black</td>\n",
       "      <td>volkswagen credit inc/sc</td>\n",
       "      <td>12050</td>\n",
       "      <td>12750</td>\n",
       "      <td>Wed Jul 01 2015 09:30:00 GMT-0700 (PDT)</td>\n",
       "    </tr>\n",
       "    <tr>\n",
       "      <th>2</th>\n",
       "      <td>2007</td>\n",
       "      <td>Dodge</td>\n",
       "      <td>Durango</td>\n",
       "      <td>SLT</td>\n",
       "      <td>SUV</td>\n",
       "      <td>automatic</td>\n",
       "      <td>1d8hd48p97f510727</td>\n",
       "      <td>fl</td>\n",
       "      <td>1.9</td>\n",
       "      <td>166628.0</td>\n",
       "      <td>gold</td>\n",
       "      <td>tan</td>\n",
       "      <td>mid atlantic finance/clearwater</td>\n",
       "      <td>2850</td>\n",
       "      <td>2700</td>\n",
       "      <td>Wed Feb 11 2015 08:00:00 GMT-0800 (PST)</td>\n",
       "    </tr>\n",
       "    <tr>\n",
       "      <th>3</th>\n",
       "      <td>2013</td>\n",
       "      <td>Mercedes-Benz</td>\n",
       "      <td>E-Class</td>\n",
       "      <td>E350 Sport</td>\n",
       "      <td>Sedan</td>\n",
       "      <td>automatic</td>\n",
       "      <td>wddhf5kb3da735753</td>\n",
       "      <td>tx</td>\n",
       "      <td>3.8</td>\n",
       "      <td>23923.0</td>\n",
       "      <td>white</td>\n",
       "      <td>off-white</td>\n",
       "      <td>mercedes-benz financial services</td>\n",
       "      <td>32200</td>\n",
       "      <td>32000</td>\n",
       "      <td>Thu Feb 12 2015 03:00:00 GMT-0800 (PST)</td>\n",
       "    </tr>\n",
       "    <tr>\n",
       "      <th>4</th>\n",
       "      <td>2013</td>\n",
       "      <td>Ford</td>\n",
       "      <td>Explorer</td>\n",
       "      <td>XLT</td>\n",
       "      <td>SUV</td>\n",
       "      <td>automatic</td>\n",
       "      <td>1fm5k8d84dgc59887</td>\n",
       "      <td>mi</td>\n",
       "      <td>5.0</td>\n",
       "      <td>18494.0</td>\n",
       "      <td>red</td>\n",
       "      <td>black</td>\n",
       "      <td>ford motor credit company,llc</td>\n",
       "      <td>29100</td>\n",
       "      <td>28100</td>\n",
       "      <td>Thu Jun 11 2015 02:30:00 GMT-0700 (PDT)</td>\n",
       "    </tr>\n",
       "  </tbody>\n",
       "</table>\n",
       "</div>"
      ],
      "text/plain": [
       "   year           make     model        trim   body transmission  \\\n",
       "0  2006       Chrysler       300        Base  Sedan    automatic   \n",
       "1  2014     Volkswagen     Jetta           S  Sedan       manual   \n",
       "2  2007          Dodge   Durango         SLT    SUV    automatic   \n",
       "3  2013  Mercedes-Benz   E-Class  E350 Sport  Sedan    automatic   \n",
       "4  2013           Ford  Explorer         XLT    SUV    automatic   \n",
       "\n",
       "                 vin state  condition  odometer  color   interior  \\\n",
       "0  2c3ka43r76h366165    il        1.9  119618.0   blue       gray   \n",
       "1  3vw1k7aj9em275429    ca        4.9    7740.0      —      black   \n",
       "2  1d8hd48p97f510727    fl        1.9  166628.0   gold        tan   \n",
       "3  wddhf5kb3da735753    tx        3.8   23923.0  white  off-white   \n",
       "4  1fm5k8d84dgc59887    mi        5.0   18494.0    red      black   \n",
       "\n",
       "                             seller    mmr  sellingprice  \\\n",
       "0                      go financial   4775          2500   \n",
       "1          volkswagen credit inc/sc  12050         12750   \n",
       "2   mid atlantic finance/clearwater   2850          2700   \n",
       "3  mercedes-benz financial services  32200         32000   \n",
       "4     ford motor credit company,llc  29100         28100   \n",
       "\n",
       "                                  saledate  \n",
       "0  Thu May 28 2015 03:00:00 GMT-0700 (PDT)  \n",
       "1  Wed Jul 01 2015 09:30:00 GMT-0700 (PDT)  \n",
       "2  Wed Feb 11 2015 08:00:00 GMT-0800 (PST)  \n",
       "3  Thu Feb 12 2015 03:00:00 GMT-0800 (PST)  \n",
       "4  Thu Jun 11 2015 02:30:00 GMT-0700 (PDT)  "
      ]
     },
     "execution_count": 190,
     "metadata": {},
     "output_type": "execute_result"
    }
   ],
   "source": [
    "import pandas as pd\n",
    "\n",
    "# import data\n",
    "cars = pd.read_csv('cars.csv')\n",
    "cars = cars.drop(columns=[\"Unnamed: 0\", \"Unnamed: 16\"])\n",
    "cars.head()"
   ]
  },
  {
   "cell_type": "code",
   "execution_count": 168,
   "id": "06bf08c7",
   "metadata": {},
   "outputs": [
    {
     "name": "stdout",
     "output_type": "stream",
     "text": [
      "year              int64\n",
      "make             object\n",
      "model            object\n",
      "trim             object\n",
      "body             object\n",
      "transmission     object\n",
      "vin              object\n",
      "state            object\n",
      "condition       float64\n",
      "odometer        float64\n",
      "color            object\n",
      "interior         object\n",
      "seller           object\n",
      "mmr               int64\n",
      "sellingprice      int64\n",
      "saledate         object\n",
      "dtype: object\n"
     ]
    }
   ],
   "source": [
    "# check variable types\n",
    "print(cars.dtypes)"
   ]
  },
  {
   "cell_type": "markdown",
   "id": "02551e86",
   "metadata": {},
   "source": [
    "### Ordinal encoding"
   ]
  },
  {
   "cell_type": "code",
   "execution_count": 169,
   "id": "1df794b5",
   "metadata": {},
   "outputs": [
    {
     "name": "stdout",
     "output_type": "stream",
     "text": [
      "automatic    87\n",
      "manual        5\n",
      "Name: transmission, dtype: int64\n"
     ]
    }
   ],
   "source": [
    "print(cars['transmission'].value_counts())"
   ]
  },
  {
   "cell_type": "code",
   "execution_count": 170,
   "id": "1b738a47",
   "metadata": {},
   "outputs": [],
   "source": [
    "# create dictionary of label:values in order\n",
    "tran_dict = {'automatic':1, 'manual':0}\n",
    "\n",
    "#create a new column \n",
    "cars['transmission'] = cars['transmission'].map(tran_dict)"
   ]
  },
  {
   "cell_type": "code",
   "execution_count": 171,
   "id": "a716a05d",
   "metadata": {},
   "outputs": [
    {
     "name": "stdout",
     "output_type": "stream",
     "text": [
      "1.0    87\n",
      "0.0     5\n",
      "Name: transmission, dtype: int64\n"
     ]
    }
   ],
   "source": [
    "print(cars['transmission'].value_counts())"
   ]
  },
  {
   "cell_type": "code",
   "execution_count": 186,
   "id": "da1d3a6a",
   "metadata": {},
   "outputs": [
    {
     "name": "stdout",
     "output_type": "stream",
     "text": [
      "0    automatic\n",
      "1       manual\n",
      "2    automatic\n",
      "3    automatic\n",
      "4    automatic\n",
      "Name: transmission, dtype: object\n"
     ]
    }
   ],
   "source": [
    "print(cars['transmission'].head())"
   ]
  },
  {
   "cell_type": "code",
   "execution_count": 187,
   "id": "44b346dc",
   "metadata": {},
   "outputs": [
    {
     "name": "stdout",
     "output_type": "stream",
     "text": [
      "0    automatic\n",
      "1       manual\n",
      "2    automatic\n",
      "3    automatic\n",
      "4    automatic\n",
      "Name: transmission, dtype: object\n"
     ]
    }
   ],
   "source": [
    "# using scikit-learn\n",
    "\n",
    "\n",
    "print(cars['transmission'].head())\n",
    " "
   ]
  },
  {
   "cell_type": "code",
   "execution_count": null,
   "id": "afa92090",
   "metadata": {},
   "outputs": [],
   "source": [
    "from sklearn.preprocessing import OrdinalEncoder\n",
    "\n",
    "# create encoder and set category order\n",
    "encoder = OrdinalEncoder(categories=[['automatic', 'manual']])\n",
    "\n",
    "# reshape our feature\n",
    "condition_reshaped = cars['transmission'].values.reshape(-1,1)\n",
    "\n",
    "# create new variable with assigned numbers\n",
    "cars['transmission'] = encoder.fit_transform(condition_reshaped)"
   ]
  },
  {
   "cell_type": "markdown",
   "id": "df74230d",
   "metadata": {},
   "source": [
    "### Label Encoding"
   ]
  },
  {
   "cell_type": "markdown",
   "id": "49592a88",
   "metadata": {},
   "source": [
    "Now, we can talk about nominal data, and we have to approach this type of data differently than what we did with ordinal data. Our color feature has a lot of different labels, but here are the top five colors that appear in our data frame."
   ]
  },
  {
   "cell_type": "code",
   "execution_count": 177,
   "id": "553e61c7",
   "metadata": {},
   "outputs": [
    {
     "name": "stdout",
     "output_type": "stream",
     "text": [
      "13\n"
     ]
    }
   ],
   "source": [
    "print(cars['color'].nunique())"
   ]
  },
  {
   "cell_type": "code",
   "execution_count": 178,
   "id": "ca7bb3af",
   "metadata": {},
   "outputs": [
    {
     "name": "stdout",
     "output_type": "stream",
     "text": [
      "black     20\n",
      "white     17\n",
      "silver    15\n",
      "blue      13\n",
      "gray      11\n",
      "Name: color, dtype: int64\n"
     ]
    }
   ],
   "source": [
    "print(cars['color'].value_counts()[:5])"
   ]
  },
  {
   "cell_type": "markdown",
   "id": "644ec81b",
   "metadata": {},
   "source": [
    "To prepare this feature, we still need to convert our text to numbers, so let’s do just that. We will demonstrate two different approaches, with the first one showing how to convert the feature from an object type to a categories type."
   ]
  },
  {
   "cell_type": "code",
   "execution_count": 179,
   "id": "789d0a5b",
   "metadata": {},
   "outputs": [],
   "source": [
    "# convert feature to category type\n",
    "cars['color'] = cars['color'].astype('category')"
   ]
  },
  {
   "cell_type": "code",
   "execution_count": 180,
   "id": "40d6a80a",
   "metadata": {},
   "outputs": [],
   "source": [
    "# save new version of category codes\n",
    "cars['color'] = cars['color'].cat.codes"
   ]
  },
  {
   "cell_type": "code",
   "execution_count": 181,
   "id": "246f1a84",
   "metadata": {},
   "outputs": [
    {
     "name": "stdout",
     "output_type": "stream",
     "text": [
      "0     20\n",
      "11    17\n",
      "9     15\n",
      "1     13\n",
      "5     11\n",
      "Name: color, dtype: int64\n"
     ]
    }
   ],
   "source": [
    "# print to see transformation\n",
    "print(cars['color'].value_counts()[:5])"
   ]
  },
  {
   "cell_type": "markdown",
   "id": "9d2ce7a2",
   "metadata": {},
   "source": [
    "One more way we can transform this feature is by using sklearn.preprocessing and the LabelEncoder library. This method will not work if your feature has NaN values. Those need to be addressed prior to running .fit_transform."
   ]
  },
  {
   "cell_type": "code",
   "execution_count": 182,
   "id": "1f8661b1",
   "metadata": {},
   "outputs": [],
   "source": [
    "from sklearn.preprocessing import LabelEncoder\n",
    "\n",
    "# create encoder\n",
    "encoder = LabelEncoder()\n",
    "\n",
    "# create new variable with assigned numbers\n",
    "cars['color'] = encoder.fit_transform(cars['color'])"
   ]
  },
  {
   "cell_type": "code",
   "execution_count": 183,
   "id": "7b758cfb",
   "metadata": {},
   "outputs": [
    {
     "name": "stdout",
     "output_type": "stream",
     "text": [
      "0     20\n",
      "11    17\n",
      "9     15\n",
      "1     13\n",
      "5     11\n",
      "Name: color, dtype: int64\n"
     ]
    }
   ],
   "source": [
    "# print to see transformation\n",
    "print(cars['color'].value_counts()[:5])"
   ]
  },
  {
   "cell_type": "markdown",
   "id": "0307dbe2",
   "metadata": {},
   "source": [
    "### One-hot Encoding"
   ]
  },
  {
   "cell_type": "markdown",
   "id": "53f6c70a",
   "metadata": {},
   "source": [
    "One-hot encoding is when we create a dummy variable for each value of our categorical feature, and a dummy variable is defined as a numeric variable with two values: 1 and 0. "
   ]
  },
  {
   "cell_type": "code",
   "execution_count": 193,
   "id": "7b90258d",
   "metadata": {},
   "outputs": [],
   "source": [
    "import pandas as pd\n",
    "# use pandas .get_dummies method to create one new column for each color\n",
    "ohe = pd.get_dummies(cars['color'])\n",
    "\n",
    "# join the new columns back onto our cars dataframe\n",
    "cars = cars.join(ohe)"
   ]
  },
  {
   "cell_type": "code",
   "execution_count": 194,
   "id": "c0ad462c",
   "metadata": {
    "scrolled": true
   },
   "outputs": [
    {
     "name": "stdout",
     "output_type": "stream",
     "text": [
      "['year' 'make' 'model' 'trim' 'body' 'transmission' 'vin' 'state'\n",
      " 'condition' 'odometer' 'color' 'interior' 'seller' 'mmr' 'sellingprice'\n",
      " 'saledate' 'black' 'blue' 'brown' 'burgundy' 'gold' 'gray' 'green'\n",
      " 'orange' 'red' 'silver' 'turquoise' 'white' '—']\n"
     ]
    }
   ],
   "source": [
    "print(cars.columns.values)"
   ]
  },
  {
   "cell_type": "code",
   "execution_count": 214,
   "id": "b635c192",
   "metadata": {},
   "outputs": [
    {
     "data": {
      "text/html": [
       "<div>\n",
       "<style scoped>\n",
       "    .dataframe tbody tr th:only-of-type {\n",
       "        vertical-align: middle;\n",
       "    }\n",
       "\n",
       "    .dataframe tbody tr th {\n",
       "        vertical-align: top;\n",
       "    }\n",
       "\n",
       "    .dataframe thead th {\n",
       "        text-align: right;\n",
       "    }\n",
       "</style>\n",
       "<table border=\"1\" class=\"dataframe\">\n",
       "  <thead>\n",
       "    <tr style=\"text-align: right;\">\n",
       "      <th></th>\n",
       "      <th>year</th>\n",
       "      <th>make</th>\n",
       "      <th>model</th>\n",
       "      <th>trim</th>\n",
       "      <th>body</th>\n",
       "      <th>transmission</th>\n",
       "      <th>vin</th>\n",
       "      <th>state</th>\n",
       "      <th>condition</th>\n",
       "      <th>odometer</th>\n",
       "      <th>...</th>\n",
       "      <th>burgundy</th>\n",
       "      <th>gold</th>\n",
       "      <th>gray</th>\n",
       "      <th>green</th>\n",
       "      <th>orange</th>\n",
       "      <th>red</th>\n",
       "      <th>silver</th>\n",
       "      <th>turquoise</th>\n",
       "      <th>white</th>\n",
       "      <th>—</th>\n",
       "    </tr>\n",
       "  </thead>\n",
       "  <tbody>\n",
       "    <tr>\n",
       "      <th>0</th>\n",
       "      <td>2006</td>\n",
       "      <td>Chrysler</td>\n",
       "      <td>300</td>\n",
       "      <td>Base</td>\n",
       "      <td>Sedan</td>\n",
       "      <td>automatic</td>\n",
       "      <td>2c3ka43r76h366165</td>\n",
       "      <td>il</td>\n",
       "      <td>1.9</td>\n",
       "      <td>119618.0</td>\n",
       "      <td>...</td>\n",
       "      <td>0</td>\n",
       "      <td>0</td>\n",
       "      <td>0</td>\n",
       "      <td>0</td>\n",
       "      <td>0</td>\n",
       "      <td>0</td>\n",
       "      <td>0</td>\n",
       "      <td>0</td>\n",
       "      <td>0</td>\n",
       "      <td>0</td>\n",
       "    </tr>\n",
       "    <tr>\n",
       "      <th>1</th>\n",
       "      <td>2014</td>\n",
       "      <td>Volkswagen</td>\n",
       "      <td>Jetta</td>\n",
       "      <td>S</td>\n",
       "      <td>Sedan</td>\n",
       "      <td>manual</td>\n",
       "      <td>3vw1k7aj9em275429</td>\n",
       "      <td>ca</td>\n",
       "      <td>4.9</td>\n",
       "      <td>7740.0</td>\n",
       "      <td>...</td>\n",
       "      <td>0</td>\n",
       "      <td>0</td>\n",
       "      <td>0</td>\n",
       "      <td>0</td>\n",
       "      <td>0</td>\n",
       "      <td>0</td>\n",
       "      <td>0</td>\n",
       "      <td>0</td>\n",
       "      <td>0</td>\n",
       "      <td>1</td>\n",
       "    </tr>\n",
       "    <tr>\n",
       "      <th>2</th>\n",
       "      <td>2007</td>\n",
       "      <td>Dodge</td>\n",
       "      <td>Durango</td>\n",
       "      <td>SLT</td>\n",
       "      <td>SUV</td>\n",
       "      <td>automatic</td>\n",
       "      <td>1d8hd48p97f510727</td>\n",
       "      <td>fl</td>\n",
       "      <td>1.9</td>\n",
       "      <td>166628.0</td>\n",
       "      <td>...</td>\n",
       "      <td>0</td>\n",
       "      <td>1</td>\n",
       "      <td>0</td>\n",
       "      <td>0</td>\n",
       "      <td>0</td>\n",
       "      <td>0</td>\n",
       "      <td>0</td>\n",
       "      <td>0</td>\n",
       "      <td>0</td>\n",
       "      <td>0</td>\n",
       "    </tr>\n",
       "    <tr>\n",
       "      <th>3</th>\n",
       "      <td>2013</td>\n",
       "      <td>Mercedes-Benz</td>\n",
       "      <td>E-Class</td>\n",
       "      <td>E350 Sport</td>\n",
       "      <td>Sedan</td>\n",
       "      <td>automatic</td>\n",
       "      <td>wddhf5kb3da735753</td>\n",
       "      <td>tx</td>\n",
       "      <td>3.8</td>\n",
       "      <td>23923.0</td>\n",
       "      <td>...</td>\n",
       "      <td>0</td>\n",
       "      <td>0</td>\n",
       "      <td>0</td>\n",
       "      <td>0</td>\n",
       "      <td>0</td>\n",
       "      <td>0</td>\n",
       "      <td>0</td>\n",
       "      <td>0</td>\n",
       "      <td>1</td>\n",
       "      <td>0</td>\n",
       "    </tr>\n",
       "    <tr>\n",
       "      <th>4</th>\n",
       "      <td>2013</td>\n",
       "      <td>Ford</td>\n",
       "      <td>Explorer</td>\n",
       "      <td>XLT</td>\n",
       "      <td>SUV</td>\n",
       "      <td>automatic</td>\n",
       "      <td>1fm5k8d84dgc59887</td>\n",
       "      <td>mi</td>\n",
       "      <td>5.0</td>\n",
       "      <td>18494.0</td>\n",
       "      <td>...</td>\n",
       "      <td>0</td>\n",
       "      <td>0</td>\n",
       "      <td>0</td>\n",
       "      <td>0</td>\n",
       "      <td>0</td>\n",
       "      <td>1</td>\n",
       "      <td>0</td>\n",
       "      <td>0</td>\n",
       "      <td>0</td>\n",
       "      <td>0</td>\n",
       "    </tr>\n",
       "  </tbody>\n",
       "</table>\n",
       "<p>5 rows × 29 columns</p>\n",
       "</div>"
      ],
      "text/plain": [
       "   year           make     model        trim   body transmission  \\\n",
       "0  2006       Chrysler       300        Base  Sedan    automatic   \n",
       "1  2014     Volkswagen     Jetta           S  Sedan       manual   \n",
       "2  2007          Dodge   Durango         SLT    SUV    automatic   \n",
       "3  2013  Mercedes-Benz   E-Class  E350 Sport  Sedan    automatic   \n",
       "4  2013           Ford  Explorer         XLT    SUV    automatic   \n",
       "\n",
       "                 vin state  condition  odometer  ... burgundy gold gray  \\\n",
       "0  2c3ka43r76h366165    il        1.9  119618.0  ...        0    0    0   \n",
       "1  3vw1k7aj9em275429    ca        4.9    7740.0  ...        0    0    0   \n",
       "2  1d8hd48p97f510727    fl        1.9  166628.0  ...        0    1    0   \n",
       "3  wddhf5kb3da735753    tx        3.8   23923.0  ...        0    0    0   \n",
       "4  1fm5k8d84dgc59887    mi        5.0   18494.0  ...        0    0    0   \n",
       "\n",
       "   green  orange red  silver  turquoise  white  —  \n",
       "0      0       0   0       0          0      0  0  \n",
       "1      0       0   0       0          0      0  1  \n",
       "2      0       0   0       0          0      0  0  \n",
       "3      0       0   0       0          0      1  0  \n",
       "4      0       0   1       0          0      0  0  \n",
       "\n",
       "[5 rows x 29 columns]"
      ]
     },
     "execution_count": 214,
     "metadata": {},
     "output_type": "execute_result"
    }
   ],
   "source": [
    "cars.head()"
   ]
  },
  {
   "cell_type": "markdown",
   "id": "4b072601",
   "metadata": {},
   "source": [
    "### Binary encoding"
   ]
  },
  {
   "cell_type": "markdown",
   "id": "b56cdf9d",
   "metadata": {},
   "source": [
    "If we find the need to one-hot encode a lot of categorical features which would, in turn, create a sparse matrix and may cause problems for our model, a strong alternative to this issue is performing a binary encoder. "
   ]
  },
  {
   "cell_type": "markdown",
   "id": "79f884c8",
   "metadata": {},
   "source": [
    "To make this happen with Python we’ll use a library called category_encoders and import BinaryEncoder. We will determine which column to transform and set drop_invariant to True so it will keep the five binary columns. If it is set to the default 0, then we would have an additional column full of zeros."
   ]
  },
  {
   "cell_type": "code",
   "execution_count": 224,
   "id": "209b8f72",
   "metadata": {},
   "outputs": [
    {
     "data": {
      "text/plain": [
       "array(['blue', '—', 'gold', 'white', 'red', 'silver', 'black', 'gray',\n",
       "       'burgundy', 'brown', 'turquoise', 'orange', 'green'], dtype=object)"
      ]
     },
     "execution_count": 224,
     "metadata": {},
     "output_type": "execute_result"
    }
   ],
   "source": [
    "from category_encoders import BinaryEncoder\n",
    "cars = pd.read_csv('cars.csv')\n",
    "cars = cars.drop(columns=[\"Unnamed: 0\", \"Unnamed: 16\"])\n",
    "\n",
    "cars.color.unique()"
   ]
  },
  {
   "cell_type": "code",
   "execution_count": null,
   "id": "756a1a0f",
   "metadata": {},
   "outputs": [],
   "source": [
    "#this will create a new data frame with the color column removed and replaced with our 5 new binary feature columns\n",
    "colors = BinaryEncoder(cols = ['color'], drop_invariant = True).fit_transform(cars)"
   ]
  },
  {
   "cell_type": "code",
   "execution_count": 220,
   "id": "a6f24de0",
   "metadata": {},
   "outputs": [
    {
     "data": {
      "text/html": [
       "<div>\n",
       "<style scoped>\n",
       "    .dataframe tbody tr th:only-of-type {\n",
       "        vertical-align: middle;\n",
       "    }\n",
       "\n",
       "    .dataframe tbody tr th {\n",
       "        vertical-align: top;\n",
       "    }\n",
       "\n",
       "    .dataframe thead th {\n",
       "        text-align: right;\n",
       "    }\n",
       "</style>\n",
       "<table border=\"1\" class=\"dataframe\">\n",
       "  <thead>\n",
       "    <tr style=\"text-align: right;\">\n",
       "      <th></th>\n",
       "      <th>year</th>\n",
       "      <th>make</th>\n",
       "      <th>model</th>\n",
       "      <th>trim</th>\n",
       "      <th>body</th>\n",
       "      <th>transmission</th>\n",
       "      <th>vin</th>\n",
       "      <th>state</th>\n",
       "      <th>condition</th>\n",
       "      <th>odometer</th>\n",
       "      <th>color_0</th>\n",
       "      <th>color_1</th>\n",
       "      <th>color_2</th>\n",
       "      <th>color_3</th>\n",
       "      <th>interior</th>\n",
       "      <th>seller</th>\n",
       "      <th>mmr</th>\n",
       "      <th>sellingprice</th>\n",
       "      <th>saledate</th>\n",
       "    </tr>\n",
       "  </thead>\n",
       "  <tbody>\n",
       "    <tr>\n",
       "      <th>0</th>\n",
       "      <td>2006</td>\n",
       "      <td>Chrysler</td>\n",
       "      <td>300</td>\n",
       "      <td>Base</td>\n",
       "      <td>Sedan</td>\n",
       "      <td>automatic</td>\n",
       "      <td>2c3ka43r76h366165</td>\n",
       "      <td>il</td>\n",
       "      <td>1.9</td>\n",
       "      <td>119618.0</td>\n",
       "      <td>0</td>\n",
       "      <td>0</td>\n",
       "      <td>0</td>\n",
       "      <td>1</td>\n",
       "      <td>gray</td>\n",
       "      <td>go financial</td>\n",
       "      <td>4775</td>\n",
       "      <td>2500</td>\n",
       "      <td>Thu May 28 2015 03:00:00 GMT-0700 (PDT)</td>\n",
       "    </tr>\n",
       "    <tr>\n",
       "      <th>1</th>\n",
       "      <td>2014</td>\n",
       "      <td>Volkswagen</td>\n",
       "      <td>Jetta</td>\n",
       "      <td>S</td>\n",
       "      <td>Sedan</td>\n",
       "      <td>manual</td>\n",
       "      <td>3vw1k7aj9em275429</td>\n",
       "      <td>ca</td>\n",
       "      <td>4.9</td>\n",
       "      <td>7740.0</td>\n",
       "      <td>0</td>\n",
       "      <td>0</td>\n",
       "      <td>1</td>\n",
       "      <td>0</td>\n",
       "      <td>black</td>\n",
       "      <td>volkswagen credit inc/sc</td>\n",
       "      <td>12050</td>\n",
       "      <td>12750</td>\n",
       "      <td>Wed Jul 01 2015 09:30:00 GMT-0700 (PDT)</td>\n",
       "    </tr>\n",
       "    <tr>\n",
       "      <th>2</th>\n",
       "      <td>2007</td>\n",
       "      <td>Dodge</td>\n",
       "      <td>Durango</td>\n",
       "      <td>SLT</td>\n",
       "      <td>SUV</td>\n",
       "      <td>automatic</td>\n",
       "      <td>1d8hd48p97f510727</td>\n",
       "      <td>fl</td>\n",
       "      <td>1.9</td>\n",
       "      <td>166628.0</td>\n",
       "      <td>0</td>\n",
       "      <td>0</td>\n",
       "      <td>1</td>\n",
       "      <td>1</td>\n",
       "      <td>tan</td>\n",
       "      <td>mid atlantic finance/clearwater</td>\n",
       "      <td>2850</td>\n",
       "      <td>2700</td>\n",
       "      <td>Wed Feb 11 2015 08:00:00 GMT-0800 (PST)</td>\n",
       "    </tr>\n",
       "    <tr>\n",
       "      <th>3</th>\n",
       "      <td>2013</td>\n",
       "      <td>Mercedes-Benz</td>\n",
       "      <td>E-Class</td>\n",
       "      <td>E350 Sport</td>\n",
       "      <td>Sedan</td>\n",
       "      <td>automatic</td>\n",
       "      <td>wddhf5kb3da735753</td>\n",
       "      <td>tx</td>\n",
       "      <td>3.8</td>\n",
       "      <td>23923.0</td>\n",
       "      <td>0</td>\n",
       "      <td>1</td>\n",
       "      <td>0</td>\n",
       "      <td>0</td>\n",
       "      <td>off-white</td>\n",
       "      <td>mercedes-benz financial services</td>\n",
       "      <td>32200</td>\n",
       "      <td>32000</td>\n",
       "      <td>Thu Feb 12 2015 03:00:00 GMT-0800 (PST)</td>\n",
       "    </tr>\n",
       "    <tr>\n",
       "      <th>4</th>\n",
       "      <td>2013</td>\n",
       "      <td>Ford</td>\n",
       "      <td>Explorer</td>\n",
       "      <td>XLT</td>\n",
       "      <td>SUV</td>\n",
       "      <td>automatic</td>\n",
       "      <td>1fm5k8d84dgc59887</td>\n",
       "      <td>mi</td>\n",
       "      <td>5.0</td>\n",
       "      <td>18494.0</td>\n",
       "      <td>0</td>\n",
       "      <td>1</td>\n",
       "      <td>0</td>\n",
       "      <td>1</td>\n",
       "      <td>black</td>\n",
       "      <td>ford motor credit company,llc</td>\n",
       "      <td>29100</td>\n",
       "      <td>28100</td>\n",
       "      <td>Thu Jun 11 2015 02:30:00 GMT-0700 (PDT)</td>\n",
       "    </tr>\n",
       "  </tbody>\n",
       "</table>\n",
       "</div>"
      ],
      "text/plain": [
       "   year           make     model        trim   body transmission  \\\n",
       "0  2006       Chrysler       300        Base  Sedan    automatic   \n",
       "1  2014     Volkswagen     Jetta           S  Sedan       manual   \n",
       "2  2007          Dodge   Durango         SLT    SUV    automatic   \n",
       "3  2013  Mercedes-Benz   E-Class  E350 Sport  Sedan    automatic   \n",
       "4  2013           Ford  Explorer         XLT    SUV    automatic   \n",
       "\n",
       "                 vin state  condition  odometer  color_0  color_1  color_2  \\\n",
       "0  2c3ka43r76h366165    il        1.9  119618.0        0        0        0   \n",
       "1  3vw1k7aj9em275429    ca        4.9    7740.0        0        0        1   \n",
       "2  1d8hd48p97f510727    fl        1.9  166628.0        0        0        1   \n",
       "3  wddhf5kb3da735753    tx        3.8   23923.0        0        1        0   \n",
       "4  1fm5k8d84dgc59887    mi        5.0   18494.0        0        1        0   \n",
       "\n",
       "   color_3   interior                            seller    mmr  sellingprice  \\\n",
       "0        1       gray                      go financial   4775          2500   \n",
       "1        0      black          volkswagen credit inc/sc  12050         12750   \n",
       "2        1        tan   mid atlantic finance/clearwater   2850          2700   \n",
       "3        0  off-white  mercedes-benz financial services  32200         32000   \n",
       "4        1      black     ford motor credit company,llc  29100         28100   \n",
       "\n",
       "                                  saledate  \n",
       "0  Thu May 28 2015 03:00:00 GMT-0700 (PDT)  \n",
       "1  Wed Jul 01 2015 09:30:00 GMT-0700 (PDT)  \n",
       "2  Wed Feb 11 2015 08:00:00 GMT-0800 (PST)  \n",
       "3  Thu Feb 12 2015 03:00:00 GMT-0800 (PST)  \n",
       "4  Thu Jun 11 2015 02:30:00 GMT-0700 (PDT)  "
      ]
     },
     "execution_count": 220,
     "metadata": {},
     "output_type": "execute_result"
    }
   ],
   "source": [
    "colors.head()"
   ]
  },
  {
   "cell_type": "markdown",
   "id": "9722747f",
   "metadata": {},
   "source": [
    "### Hashing"
   ]
  },
  {
   "cell_type": "markdown",
   "id": "86717910",
   "metadata": {},
   "source": [
    "Another option we have available to us is an encoding technique called hashing. This process is similar to one-hot encoding where it will create new binary columns, but within the parameters, you can decide how many features to output. A huge advantage is reduced dimensionality, but a large disadvantage is that some categories will be mapped to the same values. That is called collision.\n",
    "\n",
    "For example, we have 13 different colored cars. If I were to use the hash encoder and set the number of features to be 5, I will definitely have a few colors with the same hash values."
   ]
  },
  {
   "cell_type": "code",
   "execution_count": 227,
   "id": "2dfa2657",
   "metadata": {},
   "outputs": [],
   "source": [
    "from category_encoders import HashingEncoder\n",
    "\n",
    "# instantiate our encoder\n",
    "encoder = HashingEncoder(cols='color', n_components=5)\n",
    "\n",
    "# do a fit transform on our color column and set to a new variable\n",
    "hash_results = encoder.fit_transform(cars['color'])"
   ]
  },
  {
   "cell_type": "markdown",
   "id": "ddaa489f",
   "metadata": {},
   "source": [
    "Now you may be thinking, when would I use this if I’m going to lose information and my model will see brown and charcoal (or some other color combo with the same hash value) as the same thing? Well, this could be a solution to your project and dataset if you are not as interested in assessing the impact of any particular categorical value."
   ]
  },
  {
   "cell_type": "markdown",
   "id": "436acba3",
   "metadata": {},
   "source": [
    "### Target encoding"
   ]
  },
  {
   "cell_type": "markdown",
   "id": "f5212d21",
   "metadata": {},
   "source": [
    "Target encoding is a Bayesian encoder used to transform categorical features into hashed numerical values and is sometimes called the mean encoder. This encoder can be utilized for data sets that are being prepared for regression-based supervised learning, as it needs to take into consideration the mean of the target variable and its correlation between each individual category of our feature. In fact, the numerical values of each category is replaced with a blend of the posterior probability of the target given a particular categorical value and the prior probability of the target over all the training data."
   ]
  },
  {
   "cell_type": "code",
   "execution_count": 229,
   "id": "7b65cea0",
   "metadata": {},
   "outputs": [
    {
     "name": "stdout",
     "output_type": "stream",
     "text": [
      "          color\n",
      "0  12360.751686\n",
      "1  13663.515802\n",
      "2  11570.044926\n",
      "3  15500.236918\n",
      "4  12534.050296\n"
     ]
    }
   ],
   "source": [
    "from category_encoders import TargetEncoder\n",
    "\n",
    "# instantiate our encoder\n",
    "encoder = TargetEncoder(cols = 'color')\n",
    "\n",
    "# set the results of our fit_transform to a variable \n",
    "# the output will be its own pandas series\n",
    "encoder_results = encoder.fit_transform(cars['color'], cars['sellingprice'])\n",
    "\n",
    "print(encoder_results.head())"
   ]
  },
  {
   "cell_type": "code",
   "execution_count": 230,
   "id": "184d04e6",
   "metadata": {},
   "outputs": [
    {
     "name": "stdout",
     "output_type": "stream",
     "text": [
      "[11359.91138339 11495.34233559 11536.02567262 11570.04492637\n",
      " 12360.75168577 12524.85007778 12534.05029568 13032.2731278\n",
      " 13081.13636364 13409.58770345 13663.51580164 14436.97773902\n",
      " 15500.23691838]\n"
     ]
    }
   ],
   "source": [
    "print(np.sort(encoder_results['color'].unique()))"
   ]
  },
  {
   "cell_type": "markdown",
   "id": "9f21aab8",
   "metadata": {},
   "source": [
    "### Encoding date-time variables"
   ]
  },
  {
   "cell_type": "markdown",
   "id": "e64e238f",
   "metadata": {},
   "source": [
    "Every data analyst or scientist will have to work with date-time objects at some point in their career. There is so much information to be gained from date-time objects.The very first thing we need to do is convert this to a date-time object."
   ]
  },
  {
   "cell_type": "code",
   "execution_count": 239,
   "id": "18e8eb41",
   "metadata": {},
   "outputs": [
    {
     "name": "stdout",
     "output_type": "stream",
     "text": [
      "object\n"
     ]
    },
    {
     "data": {
      "text/plain": [
       "0    2015-05-28 03:00:00+07:00\n",
       "1    2015-07-01 09:30:00+07:00\n",
       "2    2015-02-11 08:00:00+08:00\n",
       "3    2015-02-12 03:00:00+08:00\n",
       "4    2015-06-11 02:30:00+07:00\n",
       "Name: saledate, dtype: object"
      ]
     },
     "execution_count": 239,
     "metadata": {},
     "output_type": "execute_result"
    }
   ],
   "source": [
    "print(cars['saledate'].dtypes)\n",
    "cars.saledate.head()"
   ]
  },
  {
   "cell_type": "code",
   "execution_count": 246,
   "id": "f8cd0ebe",
   "metadata": {},
   "outputs": [],
   "source": [
    "cars['saledate'] = pd.to_datetime(cars['saledate'],utc=True)"
   ]
  },
  {
   "cell_type": "code",
   "execution_count": 247,
   "id": "b172ecbe",
   "metadata": {},
   "outputs": [
    {
     "name": "stdout",
     "output_type": "stream",
     "text": [
      "datetime64[ns, UTC]\n"
     ]
    }
   ],
   "source": [
    "print(cars['saledate'].dtypes)"
   ]
  },
  {
   "cell_type": "code",
   "execution_count": 244,
   "id": "06ecf13d",
   "metadata": {},
   "outputs": [],
   "source": [
    "# create new variable for month\n",
    "cars['month'] = cars['saledate'].dt.month\n",
    "\n",
    "# create new variable for day of the week\n",
    "cars['dayofweek'] = cars['saledate'].dt.day\n",
    "\n",
    "# create new variable for difference between cars model year and year sold\n",
    "cars['yearbuild_sold'] = cars['saledate'].dt.year - cars['year']"
   ]
  },
  {
   "cell_type": "raw",
   "id": "81cccbfb",
   "metadata": {},
   "source": [
    "Syntax\tDescription & Output\n",
    "df[‘col’].dt.year\tOutputs the year\n",
    "df[‘col’].dt.day\tOutputs the day number\n",
    "df[‘col’].dt.hour\tOutputs the hour from the time\n",
    "df[‘col’].dt.minute\tOutputs the minute from the time\n",
    "df[‘col’].dt.second\tOutputs the seconds from the time\n",
    "df[‘col’].dt.week\tOutputs the week ordinal of the year\n",
    "df[‘col’].dt.dayofweek\tOutputs the day of the week with Monday = 0 & Sunday = 6"
   ]
  },
  {
   "cell_type": "code",
   "execution_count": null,
   "id": "336d409c",
   "metadata": {},
   "outputs": [],
   "source": []
  }
 ],
 "metadata": {
  "kernelspec": {
   "display_name": "Python 3 (ipykernel)",
   "language": "python",
   "name": "python3"
  },
  "language_info": {
   "codemirror_mode": {
    "name": "ipython",
    "version": 3
   },
   "file_extension": ".py",
   "mimetype": "text/x-python",
   "name": "python",
   "nbconvert_exporter": "python",
   "pygments_lexer": "ipython3",
   "version": "3.9.13"
  }
 },
 "nbformat": 4,
 "nbformat_minor": 5
}
